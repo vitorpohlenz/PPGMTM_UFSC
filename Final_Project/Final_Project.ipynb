{
  "nbformat": 4,
  "nbformat_minor": 0,
  "metadata": {
    "colab": {
      "name": "Final_Project.ipynb",
      "provenance": [],
      "collapsed_sections": [],
      "toc_visible": true,
      "include_colab_link": true
    },
    "kernelspec": {
      "name": "python3",
      "display_name": "Python 3"
    }
  },
  "cells": [
    {
      "cell_type": "markdown",
      "metadata": {
        "id": "view-in-github",
        "colab_type": "text"
      },
      "source": [
        "<a href=\"https://colab.research.google.com/github/vitorpohlenz/PPGMTM_UFSC/blob/main/Final_Project/Final_Project.ipynb\" target=\"_parent\"><img src=\"https://colab.research.google.com/assets/colab-badge.svg\" alt=\"Open In Colab\"/></a>"
      ]
    },
    {
      "cell_type": "markdown",
      "metadata": {
        "id": "7jnGwi3qQqeq"
      },
      "source": [
        "### Autors:\r\n",
        "Tiago César Busata\r\n",
        "\r\n",
        "Vitor Pohlenz "
      ]
    },
    {
      "cell_type": "markdown",
      "metadata": {
        "id": "HI_fcGTHrzkv"
      },
      "source": [
        "# Libraries"
      ]
    },
    {
      "cell_type": "code",
      "metadata": {
        "id": "dwYgyJchr7qT"
      },
      "source": [
        "# Common Libraries\r\n",
        "import numpy as np\r\n",
        "import pandas as pd\r\n",
        "import seaborn as sns\r\n",
        "import scipy.stats as ss\r\n",
        "\r\n",
        "# Set seed\r\n",
        "seed = 9\r\n",
        "np.random.seed(seed)\r\n",
        "\r\n",
        "# Machine Learning Libraries\r\n",
        "from sklearn.model_selection import train_test_split\r\n",
        "from sklearn.metrics import classification_report\r\n",
        "from sklearn.metrics import (plot_confusion_matrix, fbeta_score, accuracy_score, confusion_matrix)\r\n",
        "from sklearn.pipeline import (make_pipeline, Pipeline)\r\n",
        "from sklearn.preprocessing import (FunctionTransformer, StandardScaler, RobustScaler)\r\n",
        "from sklearn.model_selection import GridSearchCV\r\n",
        "from sklearn.decomposition import PCA\r\n",
        "\r\n",
        "## Library for imbalance data.\r\n",
        "from imblearn.under_sampling import NearMiss as UnderNearMiss\r\n",
        "\r\n",
        "## Models\r\n",
        "from sklearn.linear_model import (LogisticRegression, SGDClassifier)\r\n",
        "from sklearn.svm import SVC\r\n",
        "from sklearn.neighbors import KNeighborsClassifier\r\n",
        "from sklearn.ensemble import AdaBoostClassifier"
      ],
      "execution_count": 252,
      "outputs": []
    },
    {
      "cell_type": "markdown",
      "metadata": {
        "id": "kZL4gF_6r_2a"
      },
      "source": [
        "Dark theme better visualization."
      ]
    },
    {
      "cell_type": "code",
      "metadata": {
        "id": "d7IZ8QI6sGNk"
      },
      "source": [
        "# Plot's Layout\r\n",
        "%matplotlib inline\r\n",
        "import matplotlib as mpl\r\n",
        "mpl.rc('axes', labelsize=14)\r\n",
        "mpl.rc('xtick', labelsize=12)\r\n",
        "mpl.rc('ytick', labelsize=12)\r\n",
        "mpl.rc('figure', figsize = [12,8])\r\n",
        "\r\n",
        "import matplotlib.pyplot as plt\r\n",
        "\r\n",
        "plt.style.use('ggplot')"
      ],
      "execution_count": 162,
      "outputs": []
    },
    {
      "cell_type": "markdown",
      "metadata": {
        "id": "Rppwn-P4ToX3"
      },
      "source": [
        "# Functions"
      ]
    },
    {
      "cell_type": "markdown",
      "metadata": {
        "id": "4BwQ-WPATvNV"
      },
      "source": [
        "Test for association between categorical variables.\r\n",
        "\r\n",
        "Based in Pearson's $\\chi^2$ test, also kown as [Cramér's V](https://en.wikipedia.org/wiki/Cram%C3%A9r%27s_V).\r\n",
        "\r\n",
        "Reference for this function can be find [here](https://stackoverflow.com/questions/46498455/categorical-features-correlation/46498792#46498792). Using Bias corretion."
      ]
    },
    {
      "cell_type": "code",
      "metadata": {
        "id": "ruyMXO8PTqQa"
      },
      "source": [
        "def cramers_v(x, y):\r\n",
        "    confusion_matrix = pd.crosstab(x,y)\r\n",
        "    chi2 = ss.chi2_contingency(confusion_matrix)[0]\r\n",
        "    n = confusion_matrix.sum().sum()\r\n",
        "    phi2 = chi2/n\r\n",
        "    r,k = confusion_matrix.shape\r\n",
        "    phi2corr = max(0, phi2-((k-1)*(r-1))/(n-1))\r\n",
        "    rcorr = r-((r-1)**2)/(n-1)\r\n",
        "    kcorr = k-((k-1)**2)/(n-1)\r\n",
        "    return np.sqrt(phi2corr/min((kcorr-1),(rcorr-1)))"
      ],
      "execution_count": 163,
      "outputs": []
    },
    {
      "cell_type": "markdown",
      "metadata": {
        "id": "20oY2PT49usF"
      },
      "source": [
        "Log transformations"
      ]
    },
    {
      "cell_type": "code",
      "metadata": {
        "id": "YtzXk-wQ9w97"
      },
      "source": [
        "def LogColumns(dataframe, logFun, columns):\r\n",
        "  df = dataframe.copy()\r\n",
        "  df[columns] = df[columns].apply(lambda xcol: logFun(xcol+1))\r\n",
        "  return df.copy()"
      ],
      "execution_count": 164,
      "outputs": []
    },
    {
      "cell_type": "markdown",
      "metadata": {
        "id": "-JNLkU2B3-25"
      },
      "source": [
        "Scaler only to numerical variables."
      ]
    },
    {
      "cell_type": "code",
      "metadata": {
        "id": "InB9T_6J4DQY"
      },
      "source": [
        "def NumericalScaler(dataframe, scaler, NumericalColumns):\r\n",
        "  df = dataframe.copy()\r\n",
        "  scaler.fit(df[NumericalColumns])\r\n",
        "  df[NumericalColumns] = scaler.transform(df[NumericalColumns])\r\n",
        "  return df.copy()"
      ],
      "execution_count": 165,
      "outputs": []
    },
    {
      "cell_type": "markdown",
      "metadata": {
        "id": "GHAhMLi9sdRf"
      },
      "source": [
        "# Data import from Google Drive"
      ]
    },
    {
      "cell_type": "code",
      "metadata": {
        "colab": {
          "base_uri": "https://localhost:8080/",
          "height": 411
        },
        "id": "hcMOlaMNsJXC",
        "outputId": "373f9f39-e99f-4f98-f142-fb324cb114a2"
      },
      "source": [
        "from google.colab import drive \r\n",
        "drive.mount('/content/drive')\r\n",
        "raw_data = pd.read_csv('drive/My Drive/Colab Notebooks/Curso de verão/Final_Project/census.csv')\r\n",
        "# data = pd.read_csv('census.csv')\r\n",
        "raw_data.head()"
      ],
      "execution_count": 167,
      "outputs": [
        {
          "output_type": "stream",
          "text": [
            "Drive already mounted at /content/drive; to attempt to forcibly remount, call drive.mount(\"/content/drive\", force_remount=True).\n"
          ],
          "name": "stdout"
        },
        {
          "output_type": "execute_result",
          "data": {
            "text/html": [
              "<div>\n",
              "<style scoped>\n",
              "    .dataframe tbody tr th:only-of-type {\n",
              "        vertical-align: middle;\n",
              "    }\n",
              "\n",
              "    .dataframe tbody tr th {\n",
              "        vertical-align: top;\n",
              "    }\n",
              "\n",
              "    .dataframe thead th {\n",
              "        text-align: right;\n",
              "    }\n",
              "</style>\n",
              "<table border=\"1\" class=\"dataframe\">\n",
              "  <thead>\n",
              "    <tr style=\"text-align: right;\">\n",
              "      <th></th>\n",
              "      <th>age</th>\n",
              "      <th>workclass</th>\n",
              "      <th>education_level</th>\n",
              "      <th>education-num</th>\n",
              "      <th>marital-status</th>\n",
              "      <th>occupation</th>\n",
              "      <th>relationship</th>\n",
              "      <th>race</th>\n",
              "      <th>sex</th>\n",
              "      <th>capital-gain</th>\n",
              "      <th>capital-loss</th>\n",
              "      <th>hours-per-week</th>\n",
              "      <th>native-country</th>\n",
              "      <th>income</th>\n",
              "    </tr>\n",
              "  </thead>\n",
              "  <tbody>\n",
              "    <tr>\n",
              "      <th>0</th>\n",
              "      <td>39</td>\n",
              "      <td>State-gov</td>\n",
              "      <td>Bachelors</td>\n",
              "      <td>13.0</td>\n",
              "      <td>Never-married</td>\n",
              "      <td>Adm-clerical</td>\n",
              "      <td>Not-in-family</td>\n",
              "      <td>White</td>\n",
              "      <td>Male</td>\n",
              "      <td>2174.0</td>\n",
              "      <td>0.0</td>\n",
              "      <td>40.0</td>\n",
              "      <td>United-States</td>\n",
              "      <td>&lt;=50K</td>\n",
              "    </tr>\n",
              "    <tr>\n",
              "      <th>1</th>\n",
              "      <td>50</td>\n",
              "      <td>Self-emp-not-inc</td>\n",
              "      <td>Bachelors</td>\n",
              "      <td>13.0</td>\n",
              "      <td>Married-civ-spouse</td>\n",
              "      <td>Exec-managerial</td>\n",
              "      <td>Husband</td>\n",
              "      <td>White</td>\n",
              "      <td>Male</td>\n",
              "      <td>0.0</td>\n",
              "      <td>0.0</td>\n",
              "      <td>13.0</td>\n",
              "      <td>United-States</td>\n",
              "      <td>&lt;=50K</td>\n",
              "    </tr>\n",
              "    <tr>\n",
              "      <th>2</th>\n",
              "      <td>38</td>\n",
              "      <td>Private</td>\n",
              "      <td>HS-grad</td>\n",
              "      <td>9.0</td>\n",
              "      <td>Divorced</td>\n",
              "      <td>Handlers-cleaners</td>\n",
              "      <td>Not-in-family</td>\n",
              "      <td>White</td>\n",
              "      <td>Male</td>\n",
              "      <td>0.0</td>\n",
              "      <td>0.0</td>\n",
              "      <td>40.0</td>\n",
              "      <td>United-States</td>\n",
              "      <td>&lt;=50K</td>\n",
              "    </tr>\n",
              "    <tr>\n",
              "      <th>3</th>\n",
              "      <td>53</td>\n",
              "      <td>Private</td>\n",
              "      <td>11th</td>\n",
              "      <td>7.0</td>\n",
              "      <td>Married-civ-spouse</td>\n",
              "      <td>Handlers-cleaners</td>\n",
              "      <td>Husband</td>\n",
              "      <td>Black</td>\n",
              "      <td>Male</td>\n",
              "      <td>0.0</td>\n",
              "      <td>0.0</td>\n",
              "      <td>40.0</td>\n",
              "      <td>United-States</td>\n",
              "      <td>&lt;=50K</td>\n",
              "    </tr>\n",
              "    <tr>\n",
              "      <th>4</th>\n",
              "      <td>28</td>\n",
              "      <td>Private</td>\n",
              "      <td>Bachelors</td>\n",
              "      <td>13.0</td>\n",
              "      <td>Married-civ-spouse</td>\n",
              "      <td>Prof-specialty</td>\n",
              "      <td>Wife</td>\n",
              "      <td>Black</td>\n",
              "      <td>Female</td>\n",
              "      <td>0.0</td>\n",
              "      <td>0.0</td>\n",
              "      <td>40.0</td>\n",
              "      <td>Cuba</td>\n",
              "      <td>&lt;=50K</td>\n",
              "    </tr>\n",
              "  </tbody>\n",
              "</table>\n",
              "</div>"
            ],
            "text/plain": [
              "   age          workclass  ...  native-country  income\n",
              "0   39          State-gov  ...   United-States   <=50K\n",
              "1   50   Self-emp-not-inc  ...   United-States   <=50K\n",
              "2   38            Private  ...   United-States   <=50K\n",
              "3   53            Private  ...   United-States   <=50K\n",
              "4   28            Private  ...            Cuba   <=50K\n",
              "\n",
              "[5 rows x 14 columns]"
            ]
          },
          "metadata": {
            "tags": []
          },
          "execution_count": 167
        }
      ]
    },
    {
      "cell_type": "markdown",
      "metadata": {
        "id": "4Cca5hbCZTyk"
      },
      "source": [
        "# Overview of data"
      ]
    },
    {
      "cell_type": "markdown",
      "metadata": {
        "id": "L15RC2G5twtQ"
      },
      "source": [
        "Ubalanced data set."
      ]
    },
    {
      "cell_type": "code",
      "metadata": {
        "colab": {
          "base_uri": "https://localhost:8080/"
        },
        "id": "oBQa9lFWtad7",
        "outputId": "75405665-5a63-4afb-8e77-7f566e76c366"
      },
      "source": [
        "raw_data['income'].value_counts()/raw_data.shape[0]"
      ],
      "execution_count": 168,
      "outputs": [
        {
          "output_type": "execute_result",
          "data": {
            "text/plain": [
              "<=50K    0.752156\n",
              ">50K     0.247844\n",
              "Name: income, dtype: float64"
            ]
          },
          "metadata": {
            "tags": []
          },
          "execution_count": 168
        }
      ]
    },
    {
      "cell_type": "markdown",
      "metadata": {
        "id": "aQ9X2RU-xvLU"
      },
      "source": [
        "Data info"
      ]
    },
    {
      "cell_type": "code",
      "metadata": {
        "colab": {
          "base_uri": "https://localhost:8080/"
        },
        "id": "gcSbNMYAtkwB",
        "outputId": "20e36fb5-7e92-401a-97c8-6f2ff7d56ffe"
      },
      "source": [
        "raw_data.info()"
      ],
      "execution_count": 169,
      "outputs": [
        {
          "output_type": "stream",
          "text": [
            "<class 'pandas.core.frame.DataFrame'>\n",
            "RangeIndex: 45222 entries, 0 to 45221\n",
            "Data columns (total 14 columns):\n",
            " #   Column           Non-Null Count  Dtype  \n",
            "---  ------           --------------  -----  \n",
            " 0   age              45222 non-null  int64  \n",
            " 1   workclass        45222 non-null  object \n",
            " 2   education_level  45222 non-null  object \n",
            " 3   education-num    45222 non-null  float64\n",
            " 4   marital-status   45222 non-null  object \n",
            " 5   occupation       45222 non-null  object \n",
            " 6   relationship     45222 non-null  object \n",
            " 7   race             45222 non-null  object \n",
            " 8   sex              45222 non-null  object \n",
            " 9   capital-gain     45222 non-null  float64\n",
            " 10  capital-loss     45222 non-null  float64\n",
            " 11  hours-per-week   45222 non-null  float64\n",
            " 12  native-country   45222 non-null  object \n",
            " 13  income           45222 non-null  object \n",
            "dtypes: float64(4), int64(1), object(9)\n",
            "memory usage: 4.8+ MB\n"
          ],
          "name": "stdout"
        }
      ]
    },
    {
      "cell_type": "markdown",
      "metadata": {
        "id": "z4FfgWi0fJyU"
      },
      "source": [
        "Data do not have NaN values."
      ]
    },
    {
      "cell_type": "code",
      "metadata": {
        "colab": {
          "base_uri": "https://localhost:8080/"
        },
        "id": "coirIz5sfI3Z",
        "outputId": "0675ba89-9d5d-4e32-e4f5-30b01a5126d1"
      },
      "source": [
        "raw_data.isna().sum().sum()"
      ],
      "execution_count": 170,
      "outputs": [
        {
          "output_type": "execute_result",
          "data": {
            "text/plain": [
              "0"
            ]
          },
          "metadata": {
            "tags": []
          },
          "execution_count": 170
        }
      ]
    },
    {
      "cell_type": "markdown",
      "metadata": {
        "id": "fetR6T73IJ5S"
      },
      "source": [
        "Columns: `'education_level'` and `'education-num'` have the same information. \r\n",
        "\r\n",
        "One numeric and other categorical."
      ]
    },
    {
      "cell_type": "code",
      "metadata": {
        "colab": {
          "base_uri": "https://localhost:8080/",
          "height": 607
        },
        "id": "cnnyLM3RBY5Q",
        "outputId": "d3c3fad2-0c6d-4c4c-ccee-998001d6618f"
      },
      "source": [
        "raw_data[['education_level','education-num']].groupby('education_level'). agg({\"education-num\": [\"unique\",\"nunique\"]})"
      ],
      "execution_count": 171,
      "outputs": [
        {
          "output_type": "execute_result",
          "data": {
            "text/html": [
              "<div>\n",
              "<style scoped>\n",
              "    .dataframe tbody tr th:only-of-type {\n",
              "        vertical-align: middle;\n",
              "    }\n",
              "\n",
              "    .dataframe tbody tr th {\n",
              "        vertical-align: top;\n",
              "    }\n",
              "\n",
              "    .dataframe thead tr th {\n",
              "        text-align: left;\n",
              "    }\n",
              "\n",
              "    .dataframe thead tr:last-of-type th {\n",
              "        text-align: right;\n",
              "    }\n",
              "</style>\n",
              "<table border=\"1\" class=\"dataframe\">\n",
              "  <thead>\n",
              "    <tr>\n",
              "      <th></th>\n",
              "      <th colspan=\"2\" halign=\"left\">education-num</th>\n",
              "    </tr>\n",
              "    <tr>\n",
              "      <th></th>\n",
              "      <th>unique</th>\n",
              "      <th>nunique</th>\n",
              "    </tr>\n",
              "    <tr>\n",
              "      <th>education_level</th>\n",
              "      <th></th>\n",
              "      <th></th>\n",
              "    </tr>\n",
              "  </thead>\n",
              "  <tbody>\n",
              "    <tr>\n",
              "      <th>10th</th>\n",
              "      <td>[6.0]</td>\n",
              "      <td>1</td>\n",
              "    </tr>\n",
              "    <tr>\n",
              "      <th>11th</th>\n",
              "      <td>[7.0]</td>\n",
              "      <td>1</td>\n",
              "    </tr>\n",
              "    <tr>\n",
              "      <th>12th</th>\n",
              "      <td>[8.0]</td>\n",
              "      <td>1</td>\n",
              "    </tr>\n",
              "    <tr>\n",
              "      <th>1st-4th</th>\n",
              "      <td>[2.0]</td>\n",
              "      <td>1</td>\n",
              "    </tr>\n",
              "    <tr>\n",
              "      <th>5th-6th</th>\n",
              "      <td>[3.0]</td>\n",
              "      <td>1</td>\n",
              "    </tr>\n",
              "    <tr>\n",
              "      <th>7th-8th</th>\n",
              "      <td>[4.0]</td>\n",
              "      <td>1</td>\n",
              "    </tr>\n",
              "    <tr>\n",
              "      <th>9th</th>\n",
              "      <td>[5.0]</td>\n",
              "      <td>1</td>\n",
              "    </tr>\n",
              "    <tr>\n",
              "      <th>Assoc-acdm</th>\n",
              "      <td>[12.0]</td>\n",
              "      <td>1</td>\n",
              "    </tr>\n",
              "    <tr>\n",
              "      <th>Assoc-voc</th>\n",
              "      <td>[11.0]</td>\n",
              "      <td>1</td>\n",
              "    </tr>\n",
              "    <tr>\n",
              "      <th>Bachelors</th>\n",
              "      <td>[13.0]</td>\n",
              "      <td>1</td>\n",
              "    </tr>\n",
              "    <tr>\n",
              "      <th>Doctorate</th>\n",
              "      <td>[16.0]</td>\n",
              "      <td>1</td>\n",
              "    </tr>\n",
              "    <tr>\n",
              "      <th>HS-grad</th>\n",
              "      <td>[9.0]</td>\n",
              "      <td>1</td>\n",
              "    </tr>\n",
              "    <tr>\n",
              "      <th>Masters</th>\n",
              "      <td>[14.0]</td>\n",
              "      <td>1</td>\n",
              "    </tr>\n",
              "    <tr>\n",
              "      <th>Preschool</th>\n",
              "      <td>[1.0]</td>\n",
              "      <td>1</td>\n",
              "    </tr>\n",
              "    <tr>\n",
              "      <th>Prof-school</th>\n",
              "      <td>[15.0]</td>\n",
              "      <td>1</td>\n",
              "    </tr>\n",
              "    <tr>\n",
              "      <th>Some-college</th>\n",
              "      <td>[10.0]</td>\n",
              "      <td>1</td>\n",
              "    </tr>\n",
              "  </tbody>\n",
              "</table>\n",
              "</div>"
            ],
            "text/plain": [
              "                education-num        \n",
              "                       unique nunique\n",
              "education_level                      \n",
              " 10th                   [6.0]       1\n",
              " 11th                   [7.0]       1\n",
              " 12th                   [8.0]       1\n",
              " 1st-4th                [2.0]       1\n",
              " 5th-6th                [3.0]       1\n",
              " 7th-8th                [4.0]       1\n",
              " 9th                    [5.0]       1\n",
              " Assoc-acdm            [12.0]       1\n",
              " Assoc-voc             [11.0]       1\n",
              " Bachelors             [13.0]       1\n",
              " Doctorate             [16.0]       1\n",
              " HS-grad                [9.0]       1\n",
              " Masters               [14.0]       1\n",
              " Preschool              [1.0]       1\n",
              " Prof-school           [15.0]       1\n",
              " Some-college          [10.0]       1"
            ]
          },
          "metadata": {
            "tags": []
          },
          "execution_count": 171
        }
      ]
    },
    {
      "cell_type": "markdown",
      "metadata": {
        "id": "G4RZhH0Tgz2A"
      },
      "source": [
        "## Dealing with categorical variables.\r\n",
        "`'education_level'` can be droped, because `'education-num'` is its equivalent but numeric.\r\n",
        "\r\n",
        "Using [get.dummies](https://pandas.pydata.org/pandas-docs/stable/reference/api/pandas.get_dummies.html) from pandas."
      ]
    },
    {
      "cell_type": "code",
      "metadata": {
        "colab": {
          "base_uri": "https://localhost:8080/",
          "height": 321
        },
        "id": "_F5ltdyi4jr5",
        "outputId": "ac8cf352-df25-44cc-cd4e-a133866fbb2d"
      },
      "source": [
        "categorical_columns=['workclass', 'marital-status', 'occupation', \r\n",
        "                     'relationship', 'race', 'sex', 'native-country'] # 'income' is the target\r\n",
        "\r\n",
        "numerical_columns = ['age', 'education-num', 'capital-gain', 'capital-loss', 'hours-per-week']\r\n",
        "\r\n",
        "data = pd.get_dummies(data = raw_data.drop(labels = 'education_level', axis = 1), \r\n",
        "                      columns=categorical_columns, drop_first=True)\r\n",
        "\r\n",
        "data['income'] = data.income.map({'<=50K':0, '>50K':1})\r\n",
        "\r\n",
        "data.head()"
      ],
      "execution_count": 172,
      "outputs": [
        {
          "output_type": "execute_result",
          "data": {
            "text/html": [
              "<div>\n",
              "<style scoped>\n",
              "    .dataframe tbody tr th:only-of-type {\n",
              "        vertical-align: middle;\n",
              "    }\n",
              "\n",
              "    .dataframe tbody tr th {\n",
              "        vertical-align: top;\n",
              "    }\n",
              "\n",
              "    .dataframe thead th {\n",
              "        text-align: right;\n",
              "    }\n",
              "</style>\n",
              "<table border=\"1\" class=\"dataframe\">\n",
              "  <thead>\n",
              "    <tr style=\"text-align: right;\">\n",
              "      <th></th>\n",
              "      <th>age</th>\n",
              "      <th>education-num</th>\n",
              "      <th>capital-gain</th>\n",
              "      <th>capital-loss</th>\n",
              "      <th>hours-per-week</th>\n",
              "      <th>income</th>\n",
              "      <th>workclass_ Local-gov</th>\n",
              "      <th>workclass_ Private</th>\n",
              "      <th>workclass_ Self-emp-inc</th>\n",
              "      <th>workclass_ Self-emp-not-inc</th>\n",
              "      <th>workclass_ State-gov</th>\n",
              "      <th>workclass_ Without-pay</th>\n",
              "      <th>marital-status_ Married-AF-spouse</th>\n",
              "      <th>marital-status_ Married-civ-spouse</th>\n",
              "      <th>marital-status_ Married-spouse-absent</th>\n",
              "      <th>marital-status_ Never-married</th>\n",
              "      <th>marital-status_ Separated</th>\n",
              "      <th>marital-status_ Widowed</th>\n",
              "      <th>occupation_ Armed-Forces</th>\n",
              "      <th>occupation_ Craft-repair</th>\n",
              "      <th>occupation_ Exec-managerial</th>\n",
              "      <th>occupation_ Farming-fishing</th>\n",
              "      <th>occupation_ Handlers-cleaners</th>\n",
              "      <th>occupation_ Machine-op-inspct</th>\n",
              "      <th>occupation_ Other-service</th>\n",
              "      <th>occupation_ Priv-house-serv</th>\n",
              "      <th>occupation_ Prof-specialty</th>\n",
              "      <th>occupation_ Protective-serv</th>\n",
              "      <th>occupation_ Sales</th>\n",
              "      <th>occupation_ Tech-support</th>\n",
              "      <th>occupation_ Transport-moving</th>\n",
              "      <th>relationship_ Not-in-family</th>\n",
              "      <th>relationship_ Other-relative</th>\n",
              "      <th>relationship_ Own-child</th>\n",
              "      <th>relationship_ Unmarried</th>\n",
              "      <th>relationship_ Wife</th>\n",
              "      <th>race_ Asian-Pac-Islander</th>\n",
              "      <th>race_ Black</th>\n",
              "      <th>race_ Other</th>\n",
              "      <th>race_ White</th>\n",
              "      <th>...</th>\n",
              "      <th>native-country_ Canada</th>\n",
              "      <th>native-country_ China</th>\n",
              "      <th>native-country_ Columbia</th>\n",
              "      <th>native-country_ Cuba</th>\n",
              "      <th>native-country_ Dominican-Republic</th>\n",
              "      <th>native-country_ Ecuador</th>\n",
              "      <th>native-country_ El-Salvador</th>\n",
              "      <th>native-country_ England</th>\n",
              "      <th>native-country_ France</th>\n",
              "      <th>native-country_ Germany</th>\n",
              "      <th>native-country_ Greece</th>\n",
              "      <th>native-country_ Guatemala</th>\n",
              "      <th>native-country_ Haiti</th>\n",
              "      <th>native-country_ Holand-Netherlands</th>\n",
              "      <th>native-country_ Honduras</th>\n",
              "      <th>native-country_ Hong</th>\n",
              "      <th>native-country_ Hungary</th>\n",
              "      <th>native-country_ India</th>\n",
              "      <th>native-country_ Iran</th>\n",
              "      <th>native-country_ Ireland</th>\n",
              "      <th>native-country_ Italy</th>\n",
              "      <th>native-country_ Jamaica</th>\n",
              "      <th>native-country_ Japan</th>\n",
              "      <th>native-country_ Laos</th>\n",
              "      <th>native-country_ Mexico</th>\n",
              "      <th>native-country_ Nicaragua</th>\n",
              "      <th>native-country_ Outlying-US(Guam-USVI-etc)</th>\n",
              "      <th>native-country_ Peru</th>\n",
              "      <th>native-country_ Philippines</th>\n",
              "      <th>native-country_ Poland</th>\n",
              "      <th>native-country_ Portugal</th>\n",
              "      <th>native-country_ Puerto-Rico</th>\n",
              "      <th>native-country_ Scotland</th>\n",
              "      <th>native-country_ South</th>\n",
              "      <th>native-country_ Taiwan</th>\n",
              "      <th>native-country_ Thailand</th>\n",
              "      <th>native-country_ Trinadad&amp;Tobago</th>\n",
              "      <th>native-country_ United-States</th>\n",
              "      <th>native-country_ Vietnam</th>\n",
              "      <th>native-country_ Yugoslavia</th>\n",
              "    </tr>\n",
              "  </thead>\n",
              "  <tbody>\n",
              "    <tr>\n",
              "      <th>0</th>\n",
              "      <td>39</td>\n",
              "      <td>13.0</td>\n",
              "      <td>2174.0</td>\n",
              "      <td>0.0</td>\n",
              "      <td>40.0</td>\n",
              "      <td>0</td>\n",
              "      <td>0</td>\n",
              "      <td>0</td>\n",
              "      <td>0</td>\n",
              "      <td>0</td>\n",
              "      <td>1</td>\n",
              "      <td>0</td>\n",
              "      <td>0</td>\n",
              "      <td>0</td>\n",
              "      <td>0</td>\n",
              "      <td>1</td>\n",
              "      <td>0</td>\n",
              "      <td>0</td>\n",
              "      <td>0</td>\n",
              "      <td>0</td>\n",
              "      <td>0</td>\n",
              "      <td>0</td>\n",
              "      <td>0</td>\n",
              "      <td>0</td>\n",
              "      <td>0</td>\n",
              "      <td>0</td>\n",
              "      <td>0</td>\n",
              "      <td>0</td>\n",
              "      <td>0</td>\n",
              "      <td>0</td>\n",
              "      <td>0</td>\n",
              "      <td>1</td>\n",
              "      <td>0</td>\n",
              "      <td>0</td>\n",
              "      <td>0</td>\n",
              "      <td>0</td>\n",
              "      <td>0</td>\n",
              "      <td>0</td>\n",
              "      <td>0</td>\n",
              "      <td>1</td>\n",
              "      <td>...</td>\n",
              "      <td>0</td>\n",
              "      <td>0</td>\n",
              "      <td>0</td>\n",
              "      <td>0</td>\n",
              "      <td>0</td>\n",
              "      <td>0</td>\n",
              "      <td>0</td>\n",
              "      <td>0</td>\n",
              "      <td>0</td>\n",
              "      <td>0</td>\n",
              "      <td>0</td>\n",
              "      <td>0</td>\n",
              "      <td>0</td>\n",
              "      <td>0</td>\n",
              "      <td>0</td>\n",
              "      <td>0</td>\n",
              "      <td>0</td>\n",
              "      <td>0</td>\n",
              "      <td>0</td>\n",
              "      <td>0</td>\n",
              "      <td>0</td>\n",
              "      <td>0</td>\n",
              "      <td>0</td>\n",
              "      <td>0</td>\n",
              "      <td>0</td>\n",
              "      <td>0</td>\n",
              "      <td>0</td>\n",
              "      <td>0</td>\n",
              "      <td>0</td>\n",
              "      <td>0</td>\n",
              "      <td>0</td>\n",
              "      <td>0</td>\n",
              "      <td>0</td>\n",
              "      <td>0</td>\n",
              "      <td>0</td>\n",
              "      <td>0</td>\n",
              "      <td>0</td>\n",
              "      <td>1</td>\n",
              "      <td>0</td>\n",
              "      <td>0</td>\n",
              "    </tr>\n",
              "    <tr>\n",
              "      <th>1</th>\n",
              "      <td>50</td>\n",
              "      <td>13.0</td>\n",
              "      <td>0.0</td>\n",
              "      <td>0.0</td>\n",
              "      <td>13.0</td>\n",
              "      <td>0</td>\n",
              "      <td>0</td>\n",
              "      <td>0</td>\n",
              "      <td>0</td>\n",
              "      <td>1</td>\n",
              "      <td>0</td>\n",
              "      <td>0</td>\n",
              "      <td>0</td>\n",
              "      <td>1</td>\n",
              "      <td>0</td>\n",
              "      <td>0</td>\n",
              "      <td>0</td>\n",
              "      <td>0</td>\n",
              "      <td>0</td>\n",
              "      <td>0</td>\n",
              "      <td>1</td>\n",
              "      <td>0</td>\n",
              "      <td>0</td>\n",
              "      <td>0</td>\n",
              "      <td>0</td>\n",
              "      <td>0</td>\n",
              "      <td>0</td>\n",
              "      <td>0</td>\n",
              "      <td>0</td>\n",
              "      <td>0</td>\n",
              "      <td>0</td>\n",
              "      <td>0</td>\n",
              "      <td>0</td>\n",
              "      <td>0</td>\n",
              "      <td>0</td>\n",
              "      <td>0</td>\n",
              "      <td>0</td>\n",
              "      <td>0</td>\n",
              "      <td>0</td>\n",
              "      <td>1</td>\n",
              "      <td>...</td>\n",
              "      <td>0</td>\n",
              "      <td>0</td>\n",
              "      <td>0</td>\n",
              "      <td>0</td>\n",
              "      <td>0</td>\n",
              "      <td>0</td>\n",
              "      <td>0</td>\n",
              "      <td>0</td>\n",
              "      <td>0</td>\n",
              "      <td>0</td>\n",
              "      <td>0</td>\n",
              "      <td>0</td>\n",
              "      <td>0</td>\n",
              "      <td>0</td>\n",
              "      <td>0</td>\n",
              "      <td>0</td>\n",
              "      <td>0</td>\n",
              "      <td>0</td>\n",
              "      <td>0</td>\n",
              "      <td>0</td>\n",
              "      <td>0</td>\n",
              "      <td>0</td>\n",
              "      <td>0</td>\n",
              "      <td>0</td>\n",
              "      <td>0</td>\n",
              "      <td>0</td>\n",
              "      <td>0</td>\n",
              "      <td>0</td>\n",
              "      <td>0</td>\n",
              "      <td>0</td>\n",
              "      <td>0</td>\n",
              "      <td>0</td>\n",
              "      <td>0</td>\n",
              "      <td>0</td>\n",
              "      <td>0</td>\n",
              "      <td>0</td>\n",
              "      <td>0</td>\n",
              "      <td>1</td>\n",
              "      <td>0</td>\n",
              "      <td>0</td>\n",
              "    </tr>\n",
              "    <tr>\n",
              "      <th>2</th>\n",
              "      <td>38</td>\n",
              "      <td>9.0</td>\n",
              "      <td>0.0</td>\n",
              "      <td>0.0</td>\n",
              "      <td>40.0</td>\n",
              "      <td>0</td>\n",
              "      <td>0</td>\n",
              "      <td>1</td>\n",
              "      <td>0</td>\n",
              "      <td>0</td>\n",
              "      <td>0</td>\n",
              "      <td>0</td>\n",
              "      <td>0</td>\n",
              "      <td>0</td>\n",
              "      <td>0</td>\n",
              "      <td>0</td>\n",
              "      <td>0</td>\n",
              "      <td>0</td>\n",
              "      <td>0</td>\n",
              "      <td>0</td>\n",
              "      <td>0</td>\n",
              "      <td>0</td>\n",
              "      <td>1</td>\n",
              "      <td>0</td>\n",
              "      <td>0</td>\n",
              "      <td>0</td>\n",
              "      <td>0</td>\n",
              "      <td>0</td>\n",
              "      <td>0</td>\n",
              "      <td>0</td>\n",
              "      <td>0</td>\n",
              "      <td>1</td>\n",
              "      <td>0</td>\n",
              "      <td>0</td>\n",
              "      <td>0</td>\n",
              "      <td>0</td>\n",
              "      <td>0</td>\n",
              "      <td>0</td>\n",
              "      <td>0</td>\n",
              "      <td>1</td>\n",
              "      <td>...</td>\n",
              "      <td>0</td>\n",
              "      <td>0</td>\n",
              "      <td>0</td>\n",
              "      <td>0</td>\n",
              "      <td>0</td>\n",
              "      <td>0</td>\n",
              "      <td>0</td>\n",
              "      <td>0</td>\n",
              "      <td>0</td>\n",
              "      <td>0</td>\n",
              "      <td>0</td>\n",
              "      <td>0</td>\n",
              "      <td>0</td>\n",
              "      <td>0</td>\n",
              "      <td>0</td>\n",
              "      <td>0</td>\n",
              "      <td>0</td>\n",
              "      <td>0</td>\n",
              "      <td>0</td>\n",
              "      <td>0</td>\n",
              "      <td>0</td>\n",
              "      <td>0</td>\n",
              "      <td>0</td>\n",
              "      <td>0</td>\n",
              "      <td>0</td>\n",
              "      <td>0</td>\n",
              "      <td>0</td>\n",
              "      <td>0</td>\n",
              "      <td>0</td>\n",
              "      <td>0</td>\n",
              "      <td>0</td>\n",
              "      <td>0</td>\n",
              "      <td>0</td>\n",
              "      <td>0</td>\n",
              "      <td>0</td>\n",
              "      <td>0</td>\n",
              "      <td>0</td>\n",
              "      <td>1</td>\n",
              "      <td>0</td>\n",
              "      <td>0</td>\n",
              "    </tr>\n",
              "    <tr>\n",
              "      <th>3</th>\n",
              "      <td>53</td>\n",
              "      <td>7.0</td>\n",
              "      <td>0.0</td>\n",
              "      <td>0.0</td>\n",
              "      <td>40.0</td>\n",
              "      <td>0</td>\n",
              "      <td>0</td>\n",
              "      <td>1</td>\n",
              "      <td>0</td>\n",
              "      <td>0</td>\n",
              "      <td>0</td>\n",
              "      <td>0</td>\n",
              "      <td>0</td>\n",
              "      <td>1</td>\n",
              "      <td>0</td>\n",
              "      <td>0</td>\n",
              "      <td>0</td>\n",
              "      <td>0</td>\n",
              "      <td>0</td>\n",
              "      <td>0</td>\n",
              "      <td>0</td>\n",
              "      <td>0</td>\n",
              "      <td>1</td>\n",
              "      <td>0</td>\n",
              "      <td>0</td>\n",
              "      <td>0</td>\n",
              "      <td>0</td>\n",
              "      <td>0</td>\n",
              "      <td>0</td>\n",
              "      <td>0</td>\n",
              "      <td>0</td>\n",
              "      <td>0</td>\n",
              "      <td>0</td>\n",
              "      <td>0</td>\n",
              "      <td>0</td>\n",
              "      <td>0</td>\n",
              "      <td>0</td>\n",
              "      <td>1</td>\n",
              "      <td>0</td>\n",
              "      <td>0</td>\n",
              "      <td>...</td>\n",
              "      <td>0</td>\n",
              "      <td>0</td>\n",
              "      <td>0</td>\n",
              "      <td>0</td>\n",
              "      <td>0</td>\n",
              "      <td>0</td>\n",
              "      <td>0</td>\n",
              "      <td>0</td>\n",
              "      <td>0</td>\n",
              "      <td>0</td>\n",
              "      <td>0</td>\n",
              "      <td>0</td>\n",
              "      <td>0</td>\n",
              "      <td>0</td>\n",
              "      <td>0</td>\n",
              "      <td>0</td>\n",
              "      <td>0</td>\n",
              "      <td>0</td>\n",
              "      <td>0</td>\n",
              "      <td>0</td>\n",
              "      <td>0</td>\n",
              "      <td>0</td>\n",
              "      <td>0</td>\n",
              "      <td>0</td>\n",
              "      <td>0</td>\n",
              "      <td>0</td>\n",
              "      <td>0</td>\n",
              "      <td>0</td>\n",
              "      <td>0</td>\n",
              "      <td>0</td>\n",
              "      <td>0</td>\n",
              "      <td>0</td>\n",
              "      <td>0</td>\n",
              "      <td>0</td>\n",
              "      <td>0</td>\n",
              "      <td>0</td>\n",
              "      <td>0</td>\n",
              "      <td>1</td>\n",
              "      <td>0</td>\n",
              "      <td>0</td>\n",
              "    </tr>\n",
              "    <tr>\n",
              "      <th>4</th>\n",
              "      <td>28</td>\n",
              "      <td>13.0</td>\n",
              "      <td>0.0</td>\n",
              "      <td>0.0</td>\n",
              "      <td>40.0</td>\n",
              "      <td>0</td>\n",
              "      <td>0</td>\n",
              "      <td>1</td>\n",
              "      <td>0</td>\n",
              "      <td>0</td>\n",
              "      <td>0</td>\n",
              "      <td>0</td>\n",
              "      <td>0</td>\n",
              "      <td>1</td>\n",
              "      <td>0</td>\n",
              "      <td>0</td>\n",
              "      <td>0</td>\n",
              "      <td>0</td>\n",
              "      <td>0</td>\n",
              "      <td>0</td>\n",
              "      <td>0</td>\n",
              "      <td>0</td>\n",
              "      <td>0</td>\n",
              "      <td>0</td>\n",
              "      <td>0</td>\n",
              "      <td>0</td>\n",
              "      <td>1</td>\n",
              "      <td>0</td>\n",
              "      <td>0</td>\n",
              "      <td>0</td>\n",
              "      <td>0</td>\n",
              "      <td>0</td>\n",
              "      <td>0</td>\n",
              "      <td>0</td>\n",
              "      <td>0</td>\n",
              "      <td>1</td>\n",
              "      <td>0</td>\n",
              "      <td>1</td>\n",
              "      <td>0</td>\n",
              "      <td>0</td>\n",
              "      <td>...</td>\n",
              "      <td>0</td>\n",
              "      <td>0</td>\n",
              "      <td>0</td>\n",
              "      <td>1</td>\n",
              "      <td>0</td>\n",
              "      <td>0</td>\n",
              "      <td>0</td>\n",
              "      <td>0</td>\n",
              "      <td>0</td>\n",
              "      <td>0</td>\n",
              "      <td>0</td>\n",
              "      <td>0</td>\n",
              "      <td>0</td>\n",
              "      <td>0</td>\n",
              "      <td>0</td>\n",
              "      <td>0</td>\n",
              "      <td>0</td>\n",
              "      <td>0</td>\n",
              "      <td>0</td>\n",
              "      <td>0</td>\n",
              "      <td>0</td>\n",
              "      <td>0</td>\n",
              "      <td>0</td>\n",
              "      <td>0</td>\n",
              "      <td>0</td>\n",
              "      <td>0</td>\n",
              "      <td>0</td>\n",
              "      <td>0</td>\n",
              "      <td>0</td>\n",
              "      <td>0</td>\n",
              "      <td>0</td>\n",
              "      <td>0</td>\n",
              "      <td>0</td>\n",
              "      <td>0</td>\n",
              "      <td>0</td>\n",
              "      <td>0</td>\n",
              "      <td>0</td>\n",
              "      <td>0</td>\n",
              "      <td>0</td>\n",
              "      <td>0</td>\n",
              "    </tr>\n",
              "  </tbody>\n",
              "</table>\n",
              "<p>5 rows × 81 columns</p>\n",
              "</div>"
            ],
            "text/plain": [
              "   age  education-num  ...  native-country_ Vietnam  native-country_ Yugoslavia\n",
              "0   39           13.0  ...                        0                           0\n",
              "1   50           13.0  ...                        0                           0\n",
              "2   38            9.0  ...                        0                           0\n",
              "3   53            7.0  ...                        0                           0\n",
              "4   28           13.0  ...                        0                           0\n",
              "\n",
              "[5 rows x 81 columns]"
            ]
          },
          "metadata": {
            "tags": []
          },
          "execution_count": 172
        }
      ]
    },
    {
      "cell_type": "markdown",
      "metadata": {
        "id": "f4HmN4dVjIWQ"
      },
      "source": [
        "# Test Train Split\r\n",
        "\r\n",
        "Features and Target"
      ]
    },
    {
      "cell_type": "code",
      "metadata": {
        "id": "dO5OwSMKj6Ag"
      },
      "source": [
        "nm_features = data.drop(labels='income', axis = 1).columns.tolist()\r\n",
        "nm_target = 'income'               "
      ],
      "execution_count": 173,
      "outputs": []
    },
    {
      "cell_type": "markdown",
      "metadata": {
        "id": "Hb2iz8zDM1yf"
      },
      "source": [
        "Using [NearMiss()](https://imbalanced-learn.org/stable/generated/imblearn.under_sampling.NearMiss.html) to balance data."
      ]
    },
    {
      "cell_type": "code",
      "metadata": {
        "id": "bmuB9b26j_Nn",
        "colab": {
          "base_uri": "https://localhost:8080/"
        },
        "outputId": "2f33fb44-0ba2-4616-c8c1-5d76812b6c24"
      },
      "source": [
        "NearMiss =  UnderNearMiss(n_jobs=-1, random_state = seed)\r\n",
        "NearMiss.fit_sample(data[nm_features], data[nm_target])"
      ],
      "execution_count": 174,
      "outputs": [
        {
          "output_type": "stream",
          "text": [
            "/usr/local/lib/python3.6/dist-packages/sklearn/utils/deprecation.py:87: FutureWarning: Function safe_indexing is deprecated; safe_indexing is deprecated in version 0.22 and will be removed in version 0.24.\n",
            "  warnings.warn(msg, category=FutureWarning)\n",
            "/usr/local/lib/python3.6/dist-packages/sklearn/utils/deprecation.py:87: FutureWarning: Function safe_indexing is deprecated; safe_indexing is deprecated in version 0.22 and will be removed in version 0.24.\n",
            "  warnings.warn(msg, category=FutureWarning)\n",
            "/usr/local/lib/python3.6/dist-packages/sklearn/utils/deprecation.py:87: FutureWarning: Function safe_indexing is deprecated; safe_indexing is deprecated in version 0.22 and will be removed in version 0.24.\n",
            "  warnings.warn(msg, category=FutureWarning)\n"
          ],
          "name": "stderr"
        },
        {
          "output_type": "execute_result",
          "data": {
            "text/plain": [
              "(array([[4.9000e+01, 9.0000e+00, 0.0000e+00, ..., 1.0000e+00, 0.0000e+00,\n",
              "         0.0000e+00],\n",
              "        [3.6000e+01, 9.0000e+00, 0.0000e+00, ..., 1.0000e+00, 0.0000e+00,\n",
              "         0.0000e+00],\n",
              "        [2.8000e+01, 9.0000e+00, 0.0000e+00, ..., 1.0000e+00, 0.0000e+00,\n",
              "         0.0000e+00],\n",
              "        ...,\n",
              "        [4.3000e+01, 1.4000e+01, 0.0000e+00, ..., 1.0000e+00, 0.0000e+00,\n",
              "         0.0000e+00],\n",
              "        [4.0000e+01, 1.5000e+01, 1.5024e+04, ..., 1.0000e+00, 0.0000e+00,\n",
              "         0.0000e+00],\n",
              "        [3.5000e+01, 1.3000e+01, 0.0000e+00, ..., 1.0000e+00, 0.0000e+00,\n",
              "         0.0000e+00]]), array([0, 0, 0, ..., 1, 1, 1]))"
            ]
          },
          "metadata": {
            "tags": []
          },
          "execution_count": 174
        }
      ]
    },
    {
      "cell_type": "markdown",
      "metadata": {
        "id": "V9pxqr1DNKJB"
      },
      "source": [
        "Getting only indices from `NearMiss()` to keep data as `pandas.DataFrame()`."
      ]
    },
    {
      "cell_type": "code",
      "metadata": {
        "colab": {
          "base_uri": "https://localhost:8080/"
        },
        "id": "k1BL_rfD0n7L",
        "outputId": "3bb3f0d9-304b-470c-89f4-556d536c2fb4"
      },
      "source": [
        "NearMiss.sample_indices_"
      ],
      "execution_count": 175,
      "outputs": [
        {
          "output_type": "execute_result",
          "data": {
            "text/plain": [
              "array([   27,    60,   338, ..., 45198, 45204, 45221])"
            ]
          },
          "metadata": {
            "tags": []
          },
          "execution_count": 175
        }
      ]
    },
    {
      "cell_type": "markdown",
      "metadata": {
        "id": "Jh4mz3-hQAgK"
      },
      "source": [
        "As we can see, the indices excluded are only from Majoryty class."
      ]
    },
    {
      "cell_type": "code",
      "metadata": {
        "colab": {
          "base_uri": "https://localhost:8080/"
        },
        "id": "39ux8FQzNq-a",
        "outputId": "0245a293-74c2-4971-f572-b6a8b07c0117"
      },
      "source": [
        "data[~data.index.isin(NearMiss.sample_indices_)].income.unique()"
      ],
      "execution_count": 176,
      "outputs": [
        {
          "output_type": "execute_result",
          "data": {
            "text/plain": [
              "array([0])"
            ]
          },
          "metadata": {
            "tags": []
          },
          "execution_count": 176
        }
      ]
    },
    {
      "cell_type": "markdown",
      "metadata": {
        "id": "FVG2uVAVVx1R"
      },
      "source": [
        "And now we hava balanced classes."
      ]
    },
    {
      "cell_type": "markdown",
      "metadata": {
        "id": "aWN6lXrJV5Lf"
      },
      "source": [
        "> Remember, the indices that are **not** in `NearMiss.sample_indices` can also be used in test! We can bootstrap they to have more than one test set, following the ***idea*** of Monte Carlo."
      ]
    },
    {
      "cell_type": "code",
      "metadata": {
        "colab": {
          "base_uri": "https://localhost:8080/"
        },
        "id": "8MCQzc-VjRNk",
        "outputId": "4f9c9654-5de4-4e89-8195-a59f3990655f"
      },
      "source": [
        "train, test = train_test_split(data.loc[NearMiss.sample_indices_], \r\n",
        "                               test_size=0.2, \r\n",
        "                               random_state = seed, \r\n",
        "                               shuffle=True, \r\n",
        "                               stratify=data.loc[NearMiss.sample_indices_,'income'])\r\n",
        "\r\n",
        "train[nm_target].value_counts()/len(train)"
      ],
      "execution_count": 177,
      "outputs": [
        {
          "output_type": "execute_result",
          "data": {
            "text/plain": [
              "1    0.5\n",
              "0    0.5\n",
              "Name: income, dtype: float64"
            ]
          },
          "metadata": {
            "tags": []
          },
          "execution_count": 177
        }
      ]
    },
    {
      "cell_type": "markdown",
      "metadata": {
        "id": "JowFKuWrfzQy"
      },
      "source": [
        "# Exploratory analysis\r\n",
        "\r\n",
        "<font color = \"yellow\"> WARNING ! </font>\r\n",
        "\r\n",
        "<font color = \"yellowgreen\"> I will use `train.index` to access `raw_data` it means that actually Im using only the train set in Exploratory Analysis.</font>"
      ]
    },
    {
      "cell_type": "code",
      "metadata": {
        "id": "jIyJUjYEb2GG"
      },
      "source": [
        "expo_data = raw_data.loc[NearMiss.sample_indices_,:].copy()"
      ],
      "execution_count": 178,
      "outputs": []
    },
    {
      "cell_type": "markdown",
      "metadata": {
        "id": "nRMJHEM5gBnG"
      },
      "source": [
        "## Using Cramer's V in categorical variables and target.\r\n",
        "\r\n",
        "The limits of Cramer's V are [0,1].\r\n",
        "\r\n",
        "Closer to one greater the association."
      ]
    },
    {
      "cell_type": "code",
      "metadata": {
        "colab": {
          "base_uri": "https://localhost:8080/",
          "height": 566
        },
        "id": "54HegSd0gA_B",
        "outputId": "ab705447-2dfc-4854-d43d-6f4dff8f41b4"
      },
      "source": [
        "lcramer = []\r\n",
        "\r\n",
        "for i in categorical_columns+[nm_target]:\r\n",
        "  lrow = []\r\n",
        "  for j in categorical_columns+[nm_target]:\r\n",
        "    lrow.append(cramers_v(x = expo_data[i], y = expo_data[j]) ) \r\n",
        "  \r\n",
        "  lcramer.append(lrow)\r\n",
        "\r\n",
        "df_cramer = pd.DataFrame(data = lcramer, \r\n",
        "                         index = categorical_columns+[nm_target], \r\n",
        "                         columns= categorical_columns+[nm_target])\r\n",
        "\r\n",
        "sns.heatmap(df_cramer, annot=True)\r\n",
        "plt.show()"
      ],
      "execution_count": 179,
      "outputs": [
        {
          "output_type": "display_data",
          "data": {
            "image/png": "[encoded data removed]",
            "text/plain": [
              "<Figure size 864x576 with 2 Axes>"
            ]
          },
          "metadata": {
            "tags": []
          }
        }
      ]
    },
    {
      "cell_type": "markdown",
      "metadata": {
        "id": "Ekkg7yx2l40W"
      },
      "source": [
        "It seems that the bests associations with 'income' (target) are:\r\n",
        "- `occupation`\r\n",
        "- `marital-status`\r\n",
        "- `relationship`"
      ]
    },
    {
      "cell_type": "markdown",
      "metadata": {
        "id": "8dSiexFlm8AU"
      },
      "source": [
        "## Correlation between features.\r\n",
        "\r\n",
        "It's interesting that features are not correlated each other."
      ]
    },
    {
      "cell_type": "code",
      "metadata": {
        "colab": {
          "base_uri": "https://localhost:8080/",
          "height": 491
        },
        "id": "M9VuZ4J4m7H9",
        "outputId": "6207dde7-5c5e-4b76-d3c0-12a77e258cbc"
      },
      "source": [
        "sns.heatmap(expo_data[numerical_columns].corr(), annot=True)\r\n",
        "plt.show()"
      ],
      "execution_count": 180,
      "outputs": [
        {
          "output_type": "display_data",
          "data": {
            "image/png": "[encoded data removed]",
            "text/plain": [
              "<Figure size 864x576 with 2 Axes>"
            ]
          },
          "metadata": {
            "tags": []
          }
        }
      ]
    },
    {
      "cell_type": "code",
      "metadata": {
        "colab": {
          "base_uri": "https://localhost:8080/",
          "height": 297
        },
        "id": "AxE9r64wtJ5b",
        "outputId": "383dfce0-d825-4438-b400-78d420f9df03"
      },
      "source": [
        "expo_data.describe()"
      ],
      "execution_count": 181,
      "outputs": [
        {
          "output_type": "execute_result",
          "data": {
            "text/html": [
              "<div>\n",
              "<style scoped>\n",
              "    .dataframe tbody tr th:only-of-type {\n",
              "        vertical-align: middle;\n",
              "    }\n",
              "\n",
              "    .dataframe tbody tr th {\n",
              "        vertical-align: top;\n",
              "    }\n",
              "\n",
              "    .dataframe thead th {\n",
              "        text-align: right;\n",
              "    }\n",
              "</style>\n",
              "<table border=\"1\" class=\"dataframe\">\n",
              "  <thead>\n",
              "    <tr style=\"text-align: right;\">\n",
              "      <th></th>\n",
              "      <th>age</th>\n",
              "      <th>education-num</th>\n",
              "      <th>capital-gain</th>\n",
              "      <th>capital-loss</th>\n",
              "      <th>hours-per-week</th>\n",
              "    </tr>\n",
              "  </thead>\n",
              "  <tbody>\n",
              "    <tr>\n",
              "      <th>count</th>\n",
              "      <td>22416.000000</td>\n",
              "      <td>22416.000000</td>\n",
              "      <td>22416.000000</td>\n",
              "      <td>22416.000000</td>\n",
              "      <td>22416.000000</td>\n",
              "    </tr>\n",
              "    <tr>\n",
              "      <th>mean</th>\n",
              "      <td>41.699099</td>\n",
              "      <td>10.937188</td>\n",
              "      <td>1996.091497</td>\n",
              "      <td>97.045726</td>\n",
              "      <td>44.257004</td>\n",
              "    </tr>\n",
              "    <tr>\n",
              "      <th>std</th>\n",
              "      <td>10.420410</td>\n",
              "      <td>2.257084</td>\n",
              "      <td>10526.194227</td>\n",
              "      <td>430.610423</td>\n",
              "      <td>8.805288</td>\n",
              "    </tr>\n",
              "    <tr>\n",
              "      <th>min</th>\n",
              "      <td>19.000000</td>\n",
              "      <td>1.000000</td>\n",
              "      <td>0.000000</td>\n",
              "      <td>0.000000</td>\n",
              "      <td>1.000000</td>\n",
              "    </tr>\n",
              "    <tr>\n",
              "      <th>25%</th>\n",
              "      <td>34.000000</td>\n",
              "      <td>9.000000</td>\n",
              "      <td>0.000000</td>\n",
              "      <td>0.000000</td>\n",
              "      <td>40.000000</td>\n",
              "    </tr>\n",
              "    <tr>\n",
              "      <th>50%</th>\n",
              "      <td>41.000000</td>\n",
              "      <td>10.000000</td>\n",
              "      <td>0.000000</td>\n",
              "      <td>0.000000</td>\n",
              "      <td>40.000000</td>\n",
              "    </tr>\n",
              "    <tr>\n",
              "      <th>75%</th>\n",
              "      <td>49.000000</td>\n",
              "      <td>13.000000</td>\n",
              "      <td>0.000000</td>\n",
              "      <td>0.000000</td>\n",
              "      <td>50.000000</td>\n",
              "    </tr>\n",
              "    <tr>\n",
              "      <th>max</th>\n",
              "      <td>90.000000</td>\n",
              "      <td>16.000000</td>\n",
              "      <td>99999.000000</td>\n",
              "      <td>3683.000000</td>\n",
              "      <td>99.000000</td>\n",
              "    </tr>\n",
              "  </tbody>\n",
              "</table>\n",
              "</div>"
            ],
            "text/plain": [
              "                age  education-num  capital-gain  capital-loss  hours-per-week\n",
              "count  22416.000000   22416.000000  22416.000000  22416.000000    22416.000000\n",
              "mean      41.699099      10.937188   1996.091497     97.045726       44.257004\n",
              "std       10.420410       2.257084  10526.194227    430.610423        8.805288\n",
              "min       19.000000       1.000000      0.000000      0.000000        1.000000\n",
              "25%       34.000000       9.000000      0.000000      0.000000       40.000000\n",
              "50%       41.000000      10.000000      0.000000      0.000000       40.000000\n",
              "75%       49.000000      13.000000      0.000000      0.000000       50.000000\n",
              "max       90.000000      16.000000  99999.000000   3683.000000       99.000000"
            ]
          },
          "metadata": {
            "tags": []
          },
          "execution_count": 181
        }
      ]
    },
    {
      "cell_type": "code",
      "metadata": {
        "colab": {
          "base_uri": "https://localhost:8080/",
          "height": 520
        },
        "id": "Ug8koq1UqU99",
        "outputId": "0f2ca873-2288-42b7-f4f3-49c1a3240891"
      },
      "source": [
        "pd.plotting.scatter_matrix(expo_data, alpha=0.2)\r\n",
        "plt.show()"
      ],
      "execution_count": 182,
      "outputs": [
        {
          "output_type": "display_data",
          "data": {
            "image/png": "[encoded data removed]",
            "text/plain": [
              "<Figure size 864x576 with 25 Axes>"
            ]
          },
          "metadata": {
            "tags": []
          }
        }
      ]
    },
    {
      "cell_type": "markdown",
      "metadata": {
        "id": "BZBmNgj_s8vC"
      },
      "source": [
        "It seems that features do not have correlations or dependency.\r\n",
        "\r\n",
        "But `capital-gain` and `capital-loss` are quite asymmetric.\r\n",
        "\r\n",
        "And their ranges are quite large.\r\n",
        "\r\n",
        "Using a little 'trick' with log10(x+1) to see if the symmetry enhance. "
      ]
    },
    {
      "cell_type": "code",
      "metadata": {
        "id": "q4tD2cBJtjaY"
      },
      "source": [
        "expo_data['log_capital-gain'] = np.log10(expo_data['capital-loss'] + 1)\r\n",
        "expo_data['log_capital-loss'] = np.log10(expo_data['capital-gain'] + 1)"
      ],
      "execution_count": 183,
      "outputs": []
    },
    {
      "cell_type": "code",
      "metadata": {
        "colab": {
          "base_uri": "https://localhost:8080/",
          "height": 503
        },
        "id": "CuzfQKNOvPhP",
        "outputId": "90788d5e-b8ad-431a-ff80-65b09f9950c4"
      },
      "source": [
        "expo_data[['capital-gain','capital-loss','log_capital-gain','log_capital-loss']].hist()\r\n",
        "plt.show()"
      ],
      "execution_count": 184,
      "outputs": [
        {
          "output_type": "display_data",
          "data": {
            "image/png": "[encoded data removed]",
            "text/plain": [
              "<Figure size 864x576 with 4 Axes>"
            ]
          },
          "metadata": {
            "tags": []
          }
        }
      ]
    },
    {
      "cell_type": "code",
      "metadata": {
        "colab": {
          "base_uri": "https://localhost:8080/"
        },
        "id": "M1S7aR5C0MES",
        "outputId": "3d2a6374-4e06-42c6-9725-d8a328c02c1f"
      },
      "source": [
        "(expo_data[['capital-gain','log_capital-gain','capital-loss','log_capital-loss']]\r\n",
        " .apply(lambda x: ss.kurtosis(x, bias=False)) )"
      ],
      "execution_count": 185,
      "outputs": [
        {
          "output_type": "execute_result",
          "data": {
            "text/plain": [
              "capital-gain        73.982720\n",
              "log_capital-gain    15.420847\n",
              "capital-loss        16.990557\n",
              "log_capital-loss     4.934303\n",
              "dtype: float64"
            ]
          },
          "metadata": {
            "tags": []
          },
          "execution_count": 185
        }
      ]
    },
    {
      "cell_type": "markdown",
      "metadata": {
        "id": "RnsvqRxi1ISu"
      },
      "source": [
        "[kurtosis()](https://docs.scipy.org/doc/scipy/reference/generated/scipy.stats.kurtosis.html) indicates how skewed is the distribution. \r\n",
        "In this case the higher kurtosis the greater asymmetry.\r\n",
        "\r\n",
        "And how we can see above, the log10 in both cases reduce the kurtosis."
      ]
    },
    {
      "cell_type": "markdown",
      "metadata": {
        "id": "vt_mXtTJ-6jj"
      },
      "source": [
        "# Data Preprocessing"
      ]
    },
    {
      "cell_type": "code",
      "metadata": {
        "id": "Ol1msDn76eDO"
      },
      "source": [
        "pipre = Pipeline([('log_transform', FunctionTransformer(LogColumns, validate = False,\r\n",
        "                                                        kw_args = {'logFun' : np.log10, \r\n",
        "                                                                   'columns' : ['capital-gain', 'capital-loss']\r\n",
        "                                                                   }\r\n",
        "                                                        )\r\n",
        "                   ),\r\n",
        "                  ('scaler', FunctionTransformer(NumericalScaler, validate = False,\r\n",
        "                                                 kw_args={'scaler':StandardScaler(),\r\n",
        "                                                          'NumericalColumns':numerical_columns\r\n",
        "                                                          }\r\n",
        "                                                 )\r\n",
        "                   )\r\n",
        "                 ])"
      ],
      "execution_count": 186,
      "outputs": []
    },
    {
      "cell_type": "markdown",
      "metadata": {
        "id": "evVHGVuAfuj-"
      },
      "source": [
        "# Models"
      ]
    },
    {
      "cell_type": "markdown",
      "metadata": {
        "id": "MBkBIMlDC8Vj"
      },
      "source": [
        "Using F1 score to give equal emphasis to precision and recall."
      ]
    },
    {
      "cell_type": "code",
      "metadata": {
        "id": "Biz3yhsWRB52"
      },
      "source": [
        "pipe = Pipeline(steps=[('pre_processing',pipre),\r\n",
        "                        ('classifier', LogisticRegression(max_iter=1000, random_state = seed, n_jobs=-1))\r\n",
        "                        ]\r\n",
        "                )\r\n",
        "\r\n",
        "# Create space of candidate learning algorithms and their hyperparameters\r\n",
        "search_space = [{'classifier': [LogisticRegression(max_iter=1000, random_state = seed, n_jobs=-1)],\r\n",
        "                'classifier__C' : [0.5,0.75,1,1.25,1.5]\r\n",
        "                },\r\n",
        "                {'classifier': [SGDClassifier(random_state=seed,n_jobs=-1, n_iter_no_change=10, early_stopping=True)],\r\n",
        "                 'classifier__penalty' : ['l1', 'l2', 'elasticnet']\r\n",
        "                },\r\n",
        "                {'classifier':[SVC(random_state=seed,cache_size = 400)],\r\n",
        "                 'classifier__kernel' : ['linear', 'poly', 'rbf', 'sigmoid', 'precomputed'],\r\n",
        "                 'classifier__C' : [0.5,0.75,1,1.25,1.5]\r\n",
        "                },\r\n",
        "                {'classifier':[KNeighborsClassifier(n_jobs=-1)],\r\n",
        "                 'classifier__n_neighbors' : [5,10,15]\r\n",
        "                },\r\n",
        "                {'classifier':[AdaBoostClassifier(random_state=seed)],\r\n",
        "                 'classifier__n_estimators' : [50,100,150,200,300,500]\r\n",
        "                }\r\n",
        "                ]\r\n",
        "\r\n",
        "grid_model = GridSearchCV(estimator = pipe,param_grid = search_space, \r\n",
        "                          scoring = 'f1' ,\r\n",
        "                          cv=5, verbose = True, n_jobs=-1)"
      ],
      "execution_count": 188,
      "outputs": []
    },
    {
      "cell_type": "code",
      "metadata": {
        "colab": {
          "base_uri": "https://localhost:8080/"
        },
        "id": "-Os5uhRCC0MI",
        "outputId": "f9e5732c-2c92-4ece-8d1b-03650f098a6a"
      },
      "source": [
        "model = grid_model.fit(train[nm_features], train[nm_target])"
      ],
      "execution_count": 189,
      "outputs": [
        {
          "output_type": "stream",
          "text": [
            "Fitting 5 folds for each of 42 candidates, totalling 210 fits\n"
          ],
          "name": "stdout"
        },
        {
          "output_type": "stream",
          "text": [
            "[Parallel(n_jobs=-1)]: Using backend LokyBackend with 2 concurrent workers.\n",
            "/usr/local/lib/python3.6/dist-packages/joblib/externals/loky/process_executor.py:691: UserWarning: A worker stopped while some jobs were given to the executor. This can be caused by a too short worker timeout or by a memory leak.\n",
            "  \"timeout or by a memory leak.\", UserWarning\n",
            "[Parallel(n_jobs=-1)]: Done  46 tasks      | elapsed:  1.7min\n",
            "[Parallel(n_jobs=-1)]: Done 196 tasks      | elapsed: 25.2min\n",
            "[Parallel(n_jobs=-1)]: Done 210 out of 210 | elapsed: 26.2min finished\n"
          ],
          "name": "stderr"
        }
      ]
    },
    {
      "cell_type": "code",
      "metadata": {
        "colab": {
          "base_uri": "https://localhost:8080/"
        },
        "id": "QGFPlVHaESXC",
        "outputId": "6d5e1741-049d-40f9-c8b3-4bfecf470586"
      },
      "source": [
        "model.best_estimator_"
      ],
      "execution_count": 193,
      "outputs": [
        {
          "output_type": "execute_result",
          "data": {
            "text/plain": [
              "Pipeline(memory=None,\n",
              "         steps=[('pre_processing',\n",
              "                 Pipeline(memory=None,\n",
              "                          steps=[('log_transform',\n",
              "                                  FunctionTransformer(accept_sparse=False,\n",
              "                                                      check_inverse=True,\n",
              "                                                      func=<function LogColumns at 0x7fc136e4da60>,\n",
              "                                                      inv_kw_args=None,\n",
              "                                                      inverse_func=None,\n",
              "                                                      kw_args={'columns': ['capital-gain',\n",
              "                                                                           'capital-loss'],\n",
              "                                                               'logFun': <ufunc 'log10'>},\n",
              "                                                      validate=False)),\n",
              "                                 ('scaler',\n",
              "                                  FunctionTransformer(...\n",
              "                                                      inverse_func=None,\n",
              "                                                      kw_args={'NumericalColumns': ['age',\n",
              "                                                                                    'education-num',\n",
              "                                                                                    'capital-gain',\n",
              "                                                                                    'capital-loss',\n",
              "                                                                                    'hours-per-week'],\n",
              "                                                               'scaler': StandardScaler(copy=True,\n",
              "                                                                                        with_mean=True,\n",
              "                                                                                        with_std=True)},\n",
              "                                                      validate=False))],\n",
              "                          verbose=False)),\n",
              "                ('classifier',\n",
              "                 AdaBoostClassifier(algorithm='SAMME.R', base_estimator=None,\n",
              "                                    learning_rate=1.0, n_estimators=500,\n",
              "                                    random_state=9))],\n",
              "         verbose=False)"
            ]
          },
          "metadata": {
            "tags": []
          },
          "execution_count": 193
        }
      ]
    },
    {
      "cell_type": "markdown",
      "metadata": {
        "id": "6GaWWZsajTdl"
      },
      "source": [
        "Best F1 score."
      ]
    },
    {
      "cell_type": "code",
      "metadata": {
        "colab": {
          "base_uri": "https://localhost:8080/"
        },
        "id": "Y8bLGrN-ixRA",
        "outputId": "fae8b432-7bbe-43b7-fade-91971d21aacd"
      },
      "source": [
        "model.best_score_"
      ],
      "execution_count": 194,
      "outputs": [
        {
          "output_type": "execute_result",
          "data": {
            "text/plain": [
              "0.7759209541572964"
            ]
          },
          "metadata": {
            "tags": []
          },
          "execution_count": 194
        }
      ]
    },
    {
      "cell_type": "markdown",
      "metadata": {
        "id": "vrfhZ8AunhF4"
      },
      "source": [
        "$F_\\beta$ score with $\\beta$ = 0.5 ."
      ]
    },
    {
      "cell_type": "code",
      "metadata": {
        "colab": {
          "base_uri": "https://localhost:8080/"
        },
        "id": "NQ1TRCq2ns4Y",
        "outputId": "edd70001-4d52-4fdd-b75b-5ccff7009ac2"
      },
      "source": [
        "fbeta_score(train[nm_target], model.best_estimator_.predict(train[nm_features]),\r\n",
        "            beta = 0.5\r\n",
        "            )"
      ],
      "execution_count": 207,
      "outputs": [
        {
          "output_type": "execute_result",
          "data": {
            "text/plain": [
              "0.8045894068408139"
            ]
          },
          "metadata": {
            "tags": []
          },
          "execution_count": 207
        }
      ]
    },
    {
      "cell_type": "markdown",
      "metadata": {
        "id": "bMtgixdxmr94"
      },
      "source": [
        "Accuracy in training set.\r\n",
        "\r\n",
        "Remember that classes are balanced now.\r\n",
        "\r\n",
        "So a 'Naive Estimation' would have 50% of accuracy."
      ]
    },
    {
      "cell_type": "code",
      "metadata": {
        "colab": {
          "base_uri": "https://localhost:8080/"
        },
        "id": "UgD5baU6mwAa",
        "outputId": "065ef70f-aa0f-425c-edf2-04b17b9bc829"
      },
      "source": [
        "accuracy_score(train[nm_target], model.best_estimator_.predict(train[nm_features]))"
      ],
      "execution_count": 205,
      "outputs": [
        {
          "output_type": "execute_result",
          "data": {
            "text/plain": [
              "0.7915458398393933"
            ]
          },
          "metadata": {
            "tags": []
          },
          "execution_count": 205
        }
      ]
    },
    {
      "cell_type": "markdown",
      "metadata": {
        "id": "KYcIDFiqmmGy"
      },
      "source": [
        "Confusion Matrix normalized by all observations."
      ]
    },
    {
      "cell_type": "code",
      "metadata": {
        "colab": {
          "base_uri": "https://localhost:8080/",
          "height": 503
        },
        "id": "2rbh491Ek-CN",
        "outputId": "ce0e8644-4057-4aee-978f-6ba3176afcbb"
      },
      "source": [
        "sns.heatmap(confusion_matrix(train[nm_target], model.best_estimator_.predict(train[nm_features]))/len(train),\r\n",
        "            annot = True)\r\n",
        "plt.xlabel(\"Predicted label\")\r\n",
        "plt.ylabel(\"True label\")\r\n",
        "plt.show()"
      ],
      "execution_count": 203,
      "outputs": [
        {
          "output_type": "display_data",
          "data": {
            "image/png": "[encoded data removed]",
            "text/plain": [
              "<Figure size 864x576 with 2 Axes>"
            ]
          },
          "metadata": {
            "tags": []
          }
        }
      ]
    },
    {
      "cell_type": "markdown",
      "metadata": {
        "id": "O87RkOYRjW2p"
      },
      "source": [
        "# Final Evaluation"
      ]
    },
    {
      "cell_type": "markdown",
      "metadata": {
        "id": "2EDzjx8boTNS"
      },
      "source": [
        "## Taking Just the 'static' testing set."
      ]
    },
    {
      "cell_type": "markdown",
      "metadata": {
        "id": "APfZFUa4omL4"
      },
      "source": [
        "F1 score, in other words $F_{\\beta = 1}$ score."
      ]
    },
    {
      "cell_type": "code",
      "metadata": {
        "colab": {
          "base_uri": "https://localhost:8080/"
        },
        "id": "Aq25bV_OjbQN",
        "outputId": "a987d06c-93ab-4d7a-efa3-1dbc63ae1934"
      },
      "source": [
        "fbeta_score(y_true = test[nm_target], \r\n",
        "            y_pred = model.best_estimator_.predict(test[nm_features]), \r\n",
        "            beta=1)"
      ],
      "execution_count": 211,
      "outputs": [
        {
          "output_type": "execute_result",
          "data": {
            "text/plain": [
              "0.7730118247159751"
            ]
          },
          "metadata": {
            "tags": []
          },
          "execution_count": 211
        }
      ]
    },
    {
      "cell_type": "markdown",
      "metadata": {
        "id": "E55vFg4WpsL7"
      },
      "source": [
        "$F_{\\beta = 0.5}$ score"
      ]
    },
    {
      "cell_type": "code",
      "metadata": {
        "colab": {
          "base_uri": "https://localhost:8080/"
        },
        "id": "7BqCEAoVpyPK",
        "outputId": "b4e49cd6-aa3f-47bd-cb24-ac0bbb2e6f6c"
      },
      "source": [
        "fbeta_score(y_true = test[nm_target], \r\n",
        "            y_pred = model.best_estimator_.predict(test[nm_features]), \r\n",
        "            beta=0.5)"
      ],
      "execution_count": 212,
      "outputs": [
        {
          "output_type": "execute_result",
          "data": {
            "text/plain": [
              "0.7918487554626638"
            ]
          },
          "metadata": {
            "tags": []
          },
          "execution_count": 212
        }
      ]
    },
    {
      "cell_type": "markdown",
      "metadata": {
        "id": "tykeLKF_p51X"
      },
      "source": [
        "Accuracy score"
      ]
    },
    {
      "cell_type": "code",
      "metadata": {
        "colab": {
          "base_uri": "https://localhost:8080/"
        },
        "id": "Od5nvo3Kp-Dj",
        "outputId": "cd1c9830-e851-4577-904d-08f914df58b9"
      },
      "source": [
        "accuracy_score(y_true = test[nm_target], \r\n",
        "               y_pred = model.best_estimator_.predict(test[nm_features])\r\n",
        "               )"
      ],
      "execution_count": 213,
      "outputs": [
        {
          "output_type": "execute_result",
          "data": {
            "text/plain": [
              "0.7816681534344335"
            ]
          },
          "metadata": {
            "tags": []
          },
          "execution_count": 213
        }
      ]
    },
    {
      "cell_type": "code",
      "metadata": {
        "colab": {
          "base_uri": "https://localhost:8080/",
          "height": 503
        },
        "id": "50sn_zU75Hp_",
        "outputId": "42f31986-c967-41b3-e18c-42b0552857e3"
      },
      "source": [
        "sns.heatmap(confusion_matrix(test[nm_target], model.best_estimator_.predict(test[nm_features]))/len(test),\r\n",
        "            annot = True)\r\n",
        "plt.xlabel(\"Predicted label\")\r\n",
        "plt.ylabel(\"True label\")\r\n",
        "plt.show()"
      ],
      "execution_count": 303,
      "outputs": [
        {
          "output_type": "display_data",
          "data": {
            "image/png": "[encoded data removed]",
            "text/plain": [
              "<Figure size 864x576 with 2 Axes>"
            ]
          },
          "metadata": {
            "tags": []
          }
        }
      ]
    },
    {
      "cell_type": "markdown",
      "metadata": {
        "id": "00F1s-2EraJJ"
      },
      "source": [
        "## Using Multiple Random Samples\r\n",
        "\r\n",
        "> Remember: In the begin of this notebook the strategy to balance data was undersampling using the NearMiss algorithm.\r\n",
        "\r\n",
        "So we have more observations 'set aside' than the test set for majority class. Because NearMiss, in this case, set aside only majority class.\r\n",
        "\r\n",
        "Lets use this observations, following the idea of [Monte Carlo method](https://en.wikipedia.org/wiki/Monte_Carlo_method).\r\n",
        "\r\n"
      ]
    },
    {
      "cell_type": "code",
      "metadata": {
        "colab": {
          "base_uri": "https://localhost:8080/"
        },
        "id": "EIkjOPe3vKSE",
        "outputId": "94711fb1-34dc-4cfa-924c-74cf5847fd40"
      },
      "source": [
        "# Balanced testing set, lets keep this balance.\r\n",
        "test[nm_target].value_counts()/len(test)"
      ],
      "execution_count": 255,
      "outputs": [
        {
          "output_type": "execute_result",
          "data": {
            "text/plain": [
              "1    0.5\n",
              "0    0.5\n",
              "Name: income, dtype: float64"
            ]
          },
          "metadata": {
            "tags": []
          },
          "execution_count": 255
        }
      ]
    },
    {
      "cell_type": "code",
      "metadata": {
        "colab": {
          "base_uri": "https://localhost:8080/"
        },
        "id": "tBYg2LT1wiCU",
        "outputId": "62cdebb0-5e97-4b66-ecd4-151bd41298dc"
      },
      "source": [
        "# zero class observations not used\r\n",
        "data.loc[ ~data.index.isin(NearMiss.sample_indices_),nm_target].value_counts()"
      ],
      "execution_count": 261,
      "outputs": [
        {
          "output_type": "execute_result",
          "data": {
            "text/plain": [
              "0    22806\n",
              "Name: income, dtype: int64"
            ]
          },
          "metadata": {
            "tags": []
          },
          "execution_count": 261
        }
      ]
    },
    {
      "cell_type": "code",
      "metadata": {
        "colab": {
          "base_uri": "https://localhost:8080/"
        },
        "id": "l3EIPmWpxiLe",
        "outputId": "cc057e0b-bdf7-4d10-8832-9275e6f5b4f4"
      },
      "source": [
        "# number of observations by class actually used\r\n",
        "data.loc[data.index.isin(NearMiss.sample_indices_),nm_target].value_counts()"
      ],
      "execution_count": 266,
      "outputs": [
        {
          "output_type": "execute_result",
          "data": {
            "text/plain": [
              "1    11208\n",
              "0    11208\n",
              "Name: income, dtype: int64"
            ]
          },
          "metadata": {
            "tags": []
          },
          "execution_count": 266
        }
      ]
    },
    {
      "cell_type": "markdown",
      "metadata": {
        "id": "GnfvF8lHx-kX"
      },
      "source": [
        "We have more than two times the number of observations left behind by class zero than we actually used!!"
      ]
    },
    {
      "cell_type": "code",
      "metadata": {
        "colab": {
          "base_uri": "https://localhost:8080/"
        },
        "id": "K2jp3628yjjJ",
        "outputId": "a2e77372-2eb7-4fee-83f9-dd5977ca20ed"
      },
      "source": [
        "(data.loc[ ~data.index.isin(NearMiss.sample_indices_),nm_target].value_counts()/\r\n",
        "data.loc[data.index.isin(NearMiss.sample_indices_),nm_target].value_counts()[0])"
      ],
      "execution_count": 270,
      "outputs": [
        {
          "output_type": "execute_result",
          "data": {
            "text/plain": [
              "0    2.034797\n",
              "Name: income, dtype: float64"
            ]
          },
          "metadata": {
            "tags": []
          },
          "execution_count": 270
        }
      ]
    },
    {
      "cell_type": "code",
      "metadata": {
        "id": "6NRkgOJHsDQa"
      },
      "source": [
        "f1List = []\r\n",
        "fbList = []\r\n",
        "acList = []\r\n",
        "# Using 100 evaluations\r\n",
        "for k in range(100):\r\n",
        "  dfone = test.loc[test[nm_target]==1].copy() # ones label testing data\r\n",
        "  dfzero = data[~data.index.isin(NearMiss.sample_indices_)].sample(n = len(dfone), random_state = k).copy() # zero labels data\r\n",
        "  df = pd.concat([dfone,dfzero]).sample(frac=1, random_state = k) # sample(frac=1) just shuffle the data frame\r\n",
        "\r\n",
        "  # F1 scores\r\n",
        "  f1List.append(fbeta_score(y_true = df[nm_target], \r\n",
        "                            y_pred = model.best_estimator_.predict(df[nm_features]), \r\n",
        "                            beta=1)\r\n",
        "                )\r\n",
        "  \r\n",
        "  # F beta=0.5 score\r\n",
        "  fbList.append(fbeta_score(y_true = df[nm_target], \r\n",
        "                            y_pred = model.best_estimator_.predict(df[nm_features]), \r\n",
        "                            beta=0.5)\r\n",
        "                )\r\n",
        "  \r\n",
        "  # Accuracy score\r\n",
        "  acList.append(accuracy_score(y_true = df[nm_target], \r\n",
        "                               y_pred = model.best_estimator_.predict(df[nm_features])\r\n",
        "                               )\r\n",
        "                )\r\n"
      ],
      "execution_count": 298,
      "outputs": []
    },
    {
      "cell_type": "markdown",
      "metadata": {
        "id": "pJg30dAD2LmK"
      },
      "source": [
        "$F_{\\beta = 1}$ mean score"
      ]
    },
    {
      "cell_type": "code",
      "metadata": {
        "colab": {
          "base_uri": "https://localhost:8080/"
        },
        "id": "DOubrflY2RZf",
        "outputId": "48fb8219-0391-4100-b765-0690d91a05fd"
      },
      "source": [
        "np.mean(f1List)"
      ],
      "execution_count": 299,
      "outputs": [
        {
          "output_type": "execute_result",
          "data": {
            "text/plain": [
              "0.7993326456786298"
            ]
          },
          "metadata": {
            "tags": []
          },
          "execution_count": 299
        }
      ]
    },
    {
      "cell_type": "markdown",
      "metadata": {
        "id": "87CXEcnc2d_0"
      },
      "source": [
        "$F_{\\beta = 0.5}$ mean score"
      ]
    },
    {
      "cell_type": "code",
      "metadata": {
        "colab": {
          "base_uri": "https://localhost:8080/"
        },
        "id": "59uJQWHz2c9S",
        "outputId": "5bb62c5d-7444-46fb-d07f-184824d8086d"
      },
      "source": [
        "np.mean(fbList)"
      ],
      "execution_count": 300,
      "outputs": [
        {
          "output_type": "execute_result",
          "data": {
            "text/plain": [
              "0.7511477376532188"
            ]
          },
          "metadata": {
            "tags": []
          },
          "execution_count": 300
        }
      ]
    },
    {
      "cell_type": "markdown",
      "metadata": {
        "id": "Hw_0eFmA2o2a"
      },
      "source": [
        "Accuracy mean score"
      ]
    },
    {
      "cell_type": "code",
      "metadata": {
        "colab": {
          "base_uri": "https://localhost:8080/"
        },
        "id": "I7SwolUr2n_j",
        "outputId": "64974198-5e19-4056-a222-ed587bbba4f7"
      },
      "source": [
        "np.mean(acList)"
      ],
      "execution_count": 301,
      "outputs": [
        {
          "output_type": "execute_result",
          "data": {
            "text/plain": [
              "0.77528545941124"
            ]
          },
          "metadata": {
            "tags": []
          },
          "execution_count": 301
        }
      ]
    },
    {
      "cell_type": "markdown",
      "metadata": {
        "id": "gtFw2v8O2xaA"
      },
      "source": [
        "# Conclusion"
      ]
    },
    {
      "cell_type": "markdown",
      "metadata": {
        "id": "gD0hP8NJ21ZI"
      },
      "source": [
        "As seem above, the scores in training set and test set are quite close and greater than 50% (Naive estimation). \r\n",
        "\r\n",
        "It means that we do not have problems as underfitting or overfitting here.\r\n",
        "\r\n",
        "And also comparing the results with other references like [here](https://towardsdatascience.com/classification-project-finding-donors-853db66fbb8c) and [here](https://github.com/lmego/finding_donors/blob/master/finding_donors.ipynb), this approach have a good enough (maybe a little better) result.  \r\n",
        "\r\n",
        "The results from idea of Monte Carlo Method just reinforce this conclusion.\r\n",
        "\r\n",
        "Best Regards, Tiago and Vitor!"
      ]
    }
  ]
}